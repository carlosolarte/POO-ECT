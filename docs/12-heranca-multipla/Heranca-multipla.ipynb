{
 "cells": [
  {
   "cell_type": "markdown",
   "metadata": {},
   "source": [
    "# Herança Múltipla\n"
   ]
  },
  {
   "cell_type": "code",
   "execution_count": null,
   "metadata": {},
   "outputs": [],
   "source": [
    "class Superclasse1:\n",
    "    def __init__(self, valor):\n",
    "        self.atrib_super1 = valor\n",
    "\n",
    "    def metodo_super1(self):\n",
    "        print('Metodo super1')\n",
    "\n",
    "class Superclasse2:\n",
    "    def __init__(self, valor):\n",
    "        self.atrib_super2 = valor\n",
    "\n",
    "    def metodo_super2(self):\n",
    "        print('Metodo super2')\n",
    "\n",
    "class Subclasse(Superclasse1, Superclasse2):\n",
    "    def __init__(self, valor):\n",
    "        Superclasse1.__init__(self, 0) # atribui 0 a atrib_super1\n",
    "        Superclasse2.__init__(self, 1) # atribui 1 a atrib_super2\n",
    "        self.atrib_sub = valor\n",
    "\n",
    "    def metodo_sub(self):\n",
    "        print('Metodo sub')\n",
    "\n",
    "if __name__ == \"__main__\":\n",
    "    obj = Subclasse(50)\n",
    "    print(obj.atrib_super1)\n",
    "    print(obj.atrib_super2)\n",
    "    print(obj.atrib_sub)\n",
    "    obj.metodo_super1()\n",
    "    obj.metodo_super2()\n",
    "    obj.metodo_sub()"
   ]
  },
  {
   "cell_type": "markdown",
   "metadata": {},
   "source": [
    "\n",
    "## Atributos e Métodos com o Mesmo Nome\n",
    "\n",
    "Considere o código a seguir:"
   ]
  },
  {
   "cell_type": "code",
   "execution_count": null,
   "metadata": {},
   "outputs": [],
   "source": [
    "class Superclasse1:\n",
    "    def __init__(self, valor):\n",
    "        print('Inicializador de super1')\n",
    "        self.atrib_super = valor\n",
    "\n",
    "    def metodo_super(self):\n",
    "        print('Metodo super de Superclasse1')\n",
    "\n",
    "class Superclasse2:\n",
    "    def __init__(self, valor):\n",
    "        print('Inicializador de super2')\n",
    "        self.atrib_super = valor\n",
    "\n",
    "    def metodo_super(self):\n",
    "        print('Metodo super de Superclasse2')\n",
    "\n",
    "class Subclasse(Superclasse2, Superclasse1):\n",
    "    def __init__(self, valor):\n",
    "        Superclasse2.__init__(self, 1) # atribui 1 a atrib_super de Super2\n",
    "        Superclasse1.__init__(self, 0) # atribui 0 a atrib_super de Super1\n",
    "        self.atrib_sub = valor\n",
    "\n",
    "    def metodo_sub(self):\n",
    "        print('Metodo sub')\n",
    "\n",
    "if __name__ == \"__main__\":\n",
    "    obj = Subclasse(50)\n",
    "    print(obj.atrib_super) # qual atrib_super e utilizado?\n",
    "    obj.metodo_super() # qual metodo_super e chamado?"
   ]
  },
  {
   "cell_type": "markdown",
   "metadata": {},
   "source": [
    "Note que  as classes ```Superclasse1``` e ```Superclasse2``` possuem\n",
    "um atributo e um método com o mesmo nome:\n",
    "\n",
    "- O método implementado em ```Subclasse``` depende da ordem indicada\n",
    "  na tupla de classes base:\n",
    "    - A linguagem Python considera a primeira superclasse da esquerda para a direita\n",
    "    - A implementação do método que for achada primeiro é utilizada\n",
    "    - Caso uma implementação do método não seja achada em nenhuma das classes base,\n",
    "      a busca é realizada recursivamente nas classes base das classes base\n",
    "- Em relação aos atributos:\n",
    "    - Como o ```__init__``` de cada superclasse foi chamado no ```__init__```\n",
    "      da subclasse, o atributo considerado é o último encontrado (e não o primeiro)\n",
    "          - Cada chamada de ```__init__``` sobrescreve a declaração anterior\n",
    "          - Portanto, o que vale é o último que sobrescreve"
   ]
  },
  {
   "cell_type": "markdown",
   "metadata": {},
   "source": []
  },
  {
   "cell_type": "markdown",
   "metadata": {},
   "source": [
    "## O problema do Diamante \n",
    "\n",
    "Ao utilizar herança múltipla, problemas podem ocorrer com a seguinte\n",
    "hierarquia:\n",
    "\n",
    "![Diamante](diamante.png)\n",
    "\n",
    "Por exemplo, \n",
    "1. Todas as classes implementam um método chamado ```metodo```. Qual versão de ```metodo``` será chamada para objetos da classe ```D```?\n"
   ]
  },
  {
   "cell_type": "code",
   "execution_count": null,
   "metadata": {},
   "outputs": [],
   "source": [
    "class A:\n",
    "    def metodo(self):\n",
    "        print('Metodo de A')\n",
    "\n",
    "class B(A):\n",
    "    def metodo(self):\n",
    "        print('Metodo de B')\n",
    "\n",
    "class C(A):\n",
    "    def metodo(self):\n",
    "        print('Metodo de C')\n",
    "\n",
    "class D(B,C):\n",
    "    def metodo(self):\n",
    "        print('Metodo de D')\n",
    "\n",
    "if __name__ == \"__main__\":\n",
    "    a = A()\n",
    "    b = B()\n",
    "    c = C()\n",
    "    d = D()\n",
    "\n",
    "    a.metodo()\n",
    "    b.metodo()\n",
    "    c.metodo()\n",
    "    d.metodo()"
   ]
  },
  {
   "cell_type": "markdown",
   "metadata": {},
   "source": [
    "2. ```D``` apenas herda ```metodo``` (```metodo``` não é sobrescrito).\n",
    "   Qual versão de ```metodo``` será chamada para objetos da classe ```D```?"
   ]
  },
  {
   "cell_type": "code",
   "execution_count": null,
   "metadata": {},
   "outputs": [],
   "source": [
    "class A:\n",
    "    def metodo(self):\n",
    "        print('Metodo de A')\n",
    "\n",
    "class B(A):\n",
    "    def metodo(self):\n",
    "        print('Metodo de B')\n",
    "\n",
    "class C(A):\n",
    "    def metodo(self):\n",
    "        print('Metodo de C')\n",
    "\n",
    "class D(B,C):\n",
    "    pass\n",
    "if __name__ == \"__main__\":\n",
    "    a = A()\n",
    "    b = B()\n",
    "    c = C()\n",
    "    d = D()\n",
    "\n",
    "    a.metodo()\n",
    "    b.metodo()\n",
    "    c.metodo()\n",
    "    d.metodo()"
   ]
  },
  {
   "cell_type": "markdown",
   "metadata": {},
   "source": [
    "3. Tanto ```D``` quanto ```B``` apenas herda ```metodo```.\n",
    "   Qual versão de ```metodo``` será chamada para objetos da classe ```D```?"
   ]
  },
  {
   "cell_type": "code",
   "execution_count": null,
   "metadata": {},
   "outputs": [],
   "source": [
    "class A:\n",
    "    def metodo(self):\n",
    "        print('Metodo de A')\n",
    "\n",
    "class B(A):\n",
    "    pass\n",
    "\n",
    "class C(A):\n",
    "    pass\n",
    "\n",
    "class D(B,C):\n",
    "    pass\n",
    "\n",
    "if __name__ == \"__main__\":\n",
    "    a = A()\n",
    "    b = B()\n",
    "    c = C()\n",
    "    d = D()\n",
    "\n",
    "    a.metodo()\n",
    "    b.metodo()\n",
    "    c.metodo()\n",
    "    d.metodo()"
   ]
  },
  {
   "cell_type": "markdown",
   "metadata": {},
   "source": [
    "\n",
    "## Exercício\n",
    "\n",
    "1. Implemente o sistema orientado a objetos representado no diagrama\n",
    "   a seguir. Instancie as variáveis das classes concretas e chame\n",
    "   todos os métodos de cada uma delas\n",
    "\n",
    "![Exercicio](exercicio.png)\n",
    "\n",
    "## Para casa\n",
    "\n",
    "2. Considere as seguintes classes:\n",
    "\n",
    "- ```Pessoa```, com nome e RG\n",
    "- ```Funcionario```, com matricula\n",
    "- ```Contribuinte```, com nr. identificador fiscal e método \"declara\"\n",
    "- ```Empresa```, com nome\n",
    "\n",
    "Considerando também que:\n",
    "\n",
    "- Nem toda pessoa é um contribuinte\n",
    "- Nem todo contribuinte é uma pessoa\n",
    "- Todo funcionário é uma pessoa\n",
    "- Todo funcionário é contribuinte\n",
    "\n",
    "Implemente as classes envolvidas e teste o sistema.\n"
   ]
  },
  {
   "cell_type": "code",
   "execution_count": null,
   "metadata": {},
   "outputs": [],
   "source": []
  }
 ],
 "metadata": {
  "kernelspec": {
   "display_name": "Python 3",
   "language": "python",
   "name": "python3"
  },
  "language_info": {
   "codemirror_mode": {
    "name": "ipython",
    "version": 3
   },
   "file_extension": ".py",
   "mimetype": "text/x-python",
   "name": "python",
   "nbconvert_exporter": "python",
   "pygments_lexer": "ipython3",
   "version": "3.8.5"
  }
 },
 "nbformat": 4,
 "nbformat_minor": 4
}
