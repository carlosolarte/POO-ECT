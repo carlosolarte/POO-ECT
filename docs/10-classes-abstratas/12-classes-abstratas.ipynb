{
 "cells": [
  {
   "cell_type": "raw",
   "metadata": {},
   "source": []
  },
  {
   "cell_type": "markdown",
   "metadata": {},
   "source": [
    "# Classes Abstratas\n",
    "\n",
    "## Classes e Métodos Abstratos em Python\n",
    "\n",
    "Em Python, uma classe é abstrata se ela herda da classe ```ABC``` (***A**bstract **B**ase **C**lass*), do módulo ```abc``` e tem, pelo menos, um método abstrato (denotado com decorador):"
   ]
  },
  {
   "cell_type": "code",
   "execution_count": null,
   "metadata": {},
   "outputs": [],
   "source": [
    "from abc import ABC, abstractmethod\n",
    "\n",
    "class A(ABC):\n",
    "    '''Exemplo de uma classe abstrata'''\n",
    "    def __init__(self, v):\n",
    "        self._v =v \n",
    "        \n",
    "    @abstractmethod\n",
    "    def m(self):\n",
    "        '''Método abstrato'''\n",
    "        pass\n",
    "\n",
    "class B(A):\n",
    "    def __init__(self,v,v2):\n",
    "        super().__init__(v)\n",
    "        self.v2 = v2\n",
    "        \n",
    "    def m(self):\n",
    "        '''Implementando o método abstrato'''\n",
    "        self.v2 +=1\n",
    "        return self.v2\n",
    "\n",
    "b = B(3,2)\n",
    "print(b.m())\n",
    "\n",
    "# É impossível criar instâncias de A (porque não existe uma implementação do método abstrato m()\n",
    "a = A(3)\n",
    "    "
   ]
  },
  {
   "cell_type": "markdown",
   "metadata": {},
   "source": [
    "### Exemplo das contas bancárias \n",
    "Perceba a diferença entre a implementação do método `__str__` e `__repr__`"
   ]
  },
  {
   "cell_type": "code",
   "execution_count": 2,
   "metadata": {},
   "outputs": [
    {
     "name": "stdout",
     "output_type": "stream",
     "text": [
      "Titular: jose\n",
      "Ag: 1, Num: 11\n",
      "Saldo: R$0.0\n",
      "Titular: maria\n",
      "Ag: 2, Num: 11\n",
      "Saldo: R$0.0\n",
      "[ContaCorrente(1, 11, 'jose', 0.0), ContaPoupanca(2, 11, 'maria', 0.0)]\n"
     ]
    },
    {
     "data": {
      "text/plain": [
       "ContaCorrente(1, 11, 'jose', 0.0)"
      ]
     },
     "execution_count": 2,
     "metadata": {},
     "output_type": "execute_result"
    }
   ],
   "source": [
    "from abc import ABC, abstractmethod\n",
    "import math\n",
    "\n",
    "class Conta(ABC):\n",
    "    '''Conta bancária genérica'''\n",
    "    \n",
    "    @abstractmethod\n",
    "    def __init__(self, ag, num, titular, saldo=0.0):\n",
    "        self._ag = ag\n",
    "        self._num = num\n",
    "        self._titular = titular\n",
    "        self.__saldo = 0.0\n",
    "\n",
    "    @property\n",
    "    def saldo(self):\n",
    "        '''Get para __saldo'''\n",
    "        return self.__saldo\n",
    "\n",
    "    def __repr__(self):\n",
    "        '''representação do objeto como string '''\n",
    "        #self.__class__.__name__ retorna uma string com o nome da classe do objeto\n",
    "        return f'{self.__class__.__name__}{self._ag, self._num, self._titular, self.__saldo}'\n",
    "    \n",
    "    def __str__(self):\n",
    "        s = 'Titular: {}\\n'.format(self._titular)\n",
    "        s += 'Ag: {}, Num: {}\\n'.format(self._ag, self._num)\n",
    "        s += 'Saldo: R${}'.format(self.__saldo)\n",
    "        return s\n",
    "\n",
    "    def saque(self, valor):\n",
    "        self._saldo -= valor\n",
    "        print('Saque de R${} realizado com sucesso'.format(valor))\n",
    "        if self._saldo < 0:\n",
    "            print('Conta com saldo negativo')\n",
    "    \n",
    "    def deposito(self, valor):\n",
    "        self._saldo += valor\n",
    "        print('Deposito de R${} realizado com sucesso'.format(valor))\n",
    "\n",
    "class ContaCorrente(Conta):\n",
    "    def __init__(self, ag, num, titular):\n",
    "        super().__init__(ag, num, titular)\n",
    "\n",
    "\n",
    "class ContaPoupanca(Conta):\n",
    "    def __init__(self, ag, num, titular, saldo=0.0):\n",
    "        # Alternativa para super().__init__(ag, num, titular, saldo)\n",
    "        Conta.__init__(self, ag, num, titular, saldo)\n",
    "\n",
    "    def saque(self, valor):\n",
    "        if self._saldo >= valor + 2.0:\n",
    "            self._saldo -= (valor + 2.0)\n",
    "            print('Saque de R${} realizado com sucesso'.format(valor))\n",
    "            print('Cobrada taxa de R$2')\n",
    "        else:\n",
    "            print('Saldo insuficiente')\n",
    "\n",
    "    def rende(self):\n",
    "        self._saldo = math.ceil(self._saldo*1.0095)\n",
    "        \n",
    "class Conta2(Conta):\n",
    "    '''A classe continua sendo abstrata\n",
    "       porque não implementou todos os métodos abstratos \n",
    "       da superclasse. \n",
    "    '''\n",
    "    pass\n",
    "\n",
    "\n",
    "c2 = ContaCorrente(1, 11, 'jose')\n",
    "print(c2) # O método str é chamado\n",
    "\n",
    "c3 = ContaPoupanca(2, 11, 'maria')\n",
    "print(c3)\n",
    "\n",
    "l = [c2 , c3]\n",
    "print(l) #Aqui Python chama o método __repr__\n",
    "\n",
    "#c = Conta2() # Conta2 é abstrata\n",
    "\n",
    "c2  # Aqui Python chama o método __repr__"
   ]
  },
  {
   "cell_type": "markdown",
   "metadata": {},
   "source": [
    "## Observações Importantes\n",
    "\n",
    "Em Python, quando o decorador ```abstractmethod```\n",
    "é utilizado com outros, ele deve ser\n",
    "sempre o mais interno. Observe o exemplo:\n",
    "\n",
    "```\n",
    "class MinhaClasse(ABC):\n",
    "    @property\n",
    "    @abstractmethod # decorador mais interno\n",
    "    def prop(self):\n",
    "        ...\n",
    "```"
   ]
  },
  {
   "cell_type": "code",
   "execution_count": null,
   "metadata": {},
   "outputs": [],
   "source": []
  }
 ],
 "metadata": {
  "kernelspec": {
   "display_name": "Python 3",
   "language": "python",
   "name": "python3"
  },
  "language_info": {
   "codemirror_mode": {
    "name": "ipython",
    "version": 3
   },
   "file_extension": ".py",
   "mimetype": "text/x-python",
   "name": "python",
   "nbconvert_exporter": "python",
   "pygments_lexer": "ipython3",
   "version": "3.8.5"
  }
 },
 "nbformat": 4,
 "nbformat_minor": 4
}
