{
 "cells": [
  {
   "cell_type": "markdown",
   "metadata": {},
   "source": [
    "# Polimorfismo\n",
    "\n",
    "\n",
    "## Exemplo completo de Pessoa/Aluno/Professor\n"
   ]
  },
  {
   "cell_type": "code",
   "execution_count": null,
   "metadata": {},
   "outputs": [],
   "source": [
    "class Pessoa:\n",
    "    def __init__(self, nome, idade):\n",
    "        self.nome = nome\n",
    "        self.idade = idade\n",
    "\n",
    "    def __repr__(self):\n",
    "        return f'Pessoa{self.nome, self.idade}'\n",
    "\n",
    "    def compara_idades(self, p2):\n",
    "        \"\"\"\n",
    "        Retorna verdadeiro se self for mais novo que p2.\n",
    "        \"\"\"\n",
    "        return p1.idade <= p2.idade\n",
    "\n",
    "class Aluno(Pessoa):\n",
    "    def __init__(self, nome, idade, matricula):\n",
    "        Pessoa.__init__(self, nome, idade)\n",
    "        self.matricula = matricula\n",
    "\n",
    "    def __repr__(self):\n",
    "        return f'Aluno{self.nome, self.idade, self.matricula}'\n",
    "\n",
    "class Professor(Pessoa):\n",
    "    def __init__(self, nome, idade, departamento):\n",
    "        Pessoa.__init__(self, nome, idade)\n",
    "        self.departamento = departamento\n",
    "\n",
    "    def __repr__(self):\n",
    "        return f'Professor{self.nome, self.idade, self.departamento}'\n",
    "\n",
    "if __name__ == \"__main__\":\n",
    "    p = Pessoa('joao', 25)\n",
    "    a = Aluno('hugo', 20, 111)\n",
    "    prof = Professor('santos', 40, 'ECT')\n",
    "\n",
    "    p1 = Pessoa('maria', 28)\n",
    "    print(p1.compara_idades(prof)) # forma 3: método que recebe objetos derivados de pessoa\n",
    "\n",
    "    for pess in [p, a, prof]:\n",
    "        print(pess) # executando __repr__ por cada objeto na lista"
   ]
  },
  {
   "cell_type": "markdown",
   "metadata": {},
   "source": [
    "\n",
    "## Qual método deve ser executado ?\n",
    "Considere as classes da última aula. No bloco ```main```, qual dos métodos ```emite_som``` deve ser executado ? \n"
   ]
  },
  {
   "cell_type": "code",
   "execution_count": null,
   "metadata": {},
   "outputs": [],
   "source": [
    "from abc import ABC, abstractmethod\n",
    "\n",
    "class Animal(ABC):\n",
    "    '''Classe abstrata'''\n",
    "    def __init__(self):\n",
    "        self.nasce()\n",
    "\n",
    "    @abstractmethod\n",
    "    def nasce(self):\n",
    "        pass\n",
    "\n",
    "    def morre(self):\n",
    "        print('Animal morreu')\n",
    "\n",
    "    @abstractmethod\n",
    "    def emite_som(self):\n",
    "        pass\n",
    "\n",
    "class Mamifero(Animal):\n",
    "    '''Abstrata (não implementa o método emite_som) '''\n",
    "    def amamenta(self):\n",
    "        print('Mamifero amamenta')\n",
    "    def nasce(self):\n",
    "        print('Parir')\n",
    "\n",
    "\n",
    "class Ave(Animal):\n",
    "    '''Abstrata (não implementa o método emite_som) '''\n",
    "    def voa(self):\n",
    "        print('Ave voa')\n",
    "    def nasce(self):\n",
    "        print('Chocar ovos')\n",
    "\n",
    "class Gato(Mamifero):\n",
    "    def emite_som(self):\n",
    "        print('miau')\n",
    "\n",
    "class Cachorro(Mamifero):\n",
    "    def emite_som(self):\n",
    "        print('au')\n",
    "\n",
    "class Ornitorrinco(Mamifero):\n",
    "    def emite_som(self):\n",
    "        print('prprpr')\n",
    "    def nasce(self):\n",
    "        print('Ornitorrinco choca ovos')\n",
    "\n",
    "class Pinguim(Ave):\n",
    "    def emite_som(self):\n",
    "        print('quack')\n",
    "    def voa(self):\n",
    "        print('Pinguim não voa')\n",
    "\n",
    "class Aguia(Ave):\n",
    "    def emite_som(self):\n",
    "        print('in')\n",
    "\n",
    "if __name__ == \"__main__\":\n",
    "    g = Gato()\n",
    "    c = Cachorro()\n",
    "    o = Ornitorrinco()\n",
    "    p = Pinguim()\n",
    "    a = Aguia()\n",
    "    a.voa()\n",
    "    p.voa()\n",
    "    animais = [g,c,o,a]\n",
    "\n",
    "    for a in animais:\n",
    "        print(f'Nome da classe: {a.__class__.__name__}') #So para testar, imprimimos o nome da classe\n",
    "        a.emite_som()\n",
    "        a.morre()\n"
   ]
  },
  {
   "cell_type": "markdown",
   "metadata": {},
   "source": [
    "Regras:\n",
    " - A variável ```a``` (no laço ```for```) é acessada e o objeto armazenado é encontrado.\n",
    " - A classe de ```a``` é encontrada\n",
    " - A implementação do método é encontrada e executada.\n",
    " - Se a classe de  ```a``` não tiver uma implementação do método, o método é buscado na superclasse.\n",
    " \n",
    " Por exemplo:"
   ]
  },
  {
   "cell_type": "code",
   "execution_count": null,
   "metadata": {},
   "outputs": [],
   "source": [
    "aguia = Aguia()\n",
    "ping = Pinguim()\n",
    "ping.voa() #Método da classe Pinguim\n",
    "aguia.voa() #Método da superclasse (Ave)\n",
    "aguia.morre() #Método da classe Animal\n"
   ]
  },
  {
   "cell_type": "markdown",
   "metadata": {},
   "source": [
    "## Polimorfismo:\n",
    " - Capacidade de um objeto para ser referenciado de várias formas.\n",
    " - A chamada dos métodos é polimórfica: a mesma chamada pode, em momentos diferentes, invocar diferentes métodos (depende do tipo do objeto)."
   ]
  },
  {
   "cell_type": "markdown",
   "metadata": {},
   "source": [
    "# O princípio da substituição de (Barbara) Liskov\n",
    "\n",
    "- *Uma classe base deve poder ser substituída pela sua classe derivada*\n",
    "\n",
    "- Considere o método ```q(x)```. Se ```q``` pode ser utilizado com objetos da superclasse T, então ```q``` deve poder também ser invocado com um objeto de uma subclasse ```S``` derivada de ```T```."
   ]
  },
  {
   "cell_type": "code",
   "execution_count": null,
   "metadata": {},
   "outputs": [],
   "source": [
    "# A função cumprimentar foi escrita para cumprimentar uma pessoa\n",
    "def cumprimentar(P):\n",
    "    '''P : Pessoa'''\n",
    "    print(f'Olá {P.nome}, tudo bem ?')\n",
    "    \n",
    "# Mas podemos utilizar cumprimentar com subclasses de P\n",
    "p = Pessoa('joão', 25)\n",
    "a = Aluno('maria', 20, 111)\n",
    "cumprimentar(p)\n",
    "cumprimentar(a)\n"
   ]
  },
  {
   "cell_type": "markdown",
   "metadata": {},
   "source": [
    "\n",
    "\n",
    "## *Duck Typing*\n",
    "Sendo uma linguagem de tipagem dinâmica, em Python, um método/função pode ser utilizada por qualquer objeto que implemente certo comportamento (sem ser parte de uma hierarquia de herança). \n",
    "\n",
    "*Quando eu vejo um pássaro que anda como pato, nada como um pato\n",
    "e grasna como pato, então pra mim este pássaro é um pato*\n"
   ]
  },
  {
   "cell_type": "code",
   "execution_count": null,
   "metadata": {},
   "outputs": [],
   "source": [
    "class A:\n",
    "    def doIt(self):\n",
    "        return 'Trabalhando em A'\n",
    "\n",
    "class B:\n",
    "    def doIt(self):\n",
    "        return 'Trabalhando em B'\n",
    "class C:\n",
    "    pass\n",
    "\n",
    "# Note que as classes não pertencem à mesma hierarquia (não existem relações de herança entre elas)    \n",
    "def trabalhar(x):\n",
    "    '''x deve ser um objeto que implementa o método doIt'''\n",
    "    print(x.doIt())\n",
    "    \n",
    "a = A()\n",
    "b = B()\n",
    "c = C()\n",
    "trabalhar(a)\n",
    "trabalhar(b)\n",
    "trabalhar(c) #Erro! a classe C não implementa o método doIt\n",
    "    \n",
    "    "
   ]
  },
  {
   "cell_type": "markdown",
   "metadata": {},
   "source": [
    "\n",
    "\n",
    "## Exercício\n",
    "\n",
    "1. Considerando as classes ```Pessoa```, ```Aluno```, e ```Professor```\n",
    "   dos exemplos desta aula. Implemente um método static que receba\n",
    "   como parâmetro uma lista de pessoas. O método deve calcular\n",
    "   a média de idade das pessoas na lista.\n",
    "\n",
    "## Exercício\n",
    "\n",
    "2. Considerando as classes Animal, Mamífero, etc:\n",
    "\n",
    "- Implemente o método abstrato ```pode_voar``` (que deve retornar ```True/False```)\n",
    "  na classe ```Ave```\n",
    "- Implemente na classe Ave um método de classe que recebe como parâmetro uma lista de aves L e retorna uma sublista de  L com as aves que podem voar.\n",
    "- Adicione um atributo e propriedade ```peso``` na classe Animal. \n",
    "- Implemente um método de classe que retorne a media dos pesos de uma lista de animais. "
   ]
  },
  {
   "cell_type": "code",
   "execution_count": null,
   "metadata": {},
   "outputs": [],
   "source": []
  }
 ],
 "metadata": {
  "kernelspec": {
   "display_name": "Python 3",
   "language": "python",
   "name": "python3"
  },
  "language_info": {
   "codemirror_mode": {
    "name": "ipython",
    "version": 3
   },
   "file_extension": ".py",
   "mimetype": "text/x-python",
   "name": "python",
   "nbconvert_exporter": "python",
   "pygments_lexer": "ipython3",
   "version": "3.8.6"
  }
 },
 "nbformat": 4,
 "nbformat_minor": 4
}
