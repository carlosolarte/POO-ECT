{
 "cells": [
  {
   "cell_type": "markdown",
   "metadata": {},
   "source": [
    "# Arquivos\n",
    "\n",
    "\n",
    "## Abrindo Arquivos\n",
    "\n",
    "Para trabalhar com arquivos na linguagem Python,\n",
    "utilizamos a função ```open```, que precisa de dois\n",
    "parâmetros:\n",
    "\n",
    "1. Uma string informando o caminho completo do arquivo a ser aberto\n",
    "    - Pode ser usada só com o nome do arquivo, para arquivos no mesmo diretório\n",
    "      do arquivo sendo executado\n",
    "2. Uma string informando a forma de abertura do arquivo\n",
    "    - Leitura: ```\"r\"```\n",
    "    - Escrita: ```\"w\"```\n",
    "    - Leitura e escrita: ```\"r+\"```\n",
    "    - Escrita acrescentando ao final do arquivo: ```\"a\"```\n",
    "- Todo arquivo é aberto como arquivo de texto, a não\n",
    "  ser quando assinalado com (```\"b\"```), que abre o\n",
    "  arquivo como binário (mais sobre arquivos binários na próxima seção). "
   ]
  },
  {
   "cell_type": "code",
   "execution_count": null,
   "metadata": {},
   "outputs": [],
   "source": [
    "# Abrir um arquivo (modo leitura)\n",
    "# O arquivo lista.txt deve estar armazenado no mesmo diretório \n",
    "arq = open('lista.txt', 'r')\n",
    "print(type(arq)) # Tipo de arq\n",
    "# Fechar o arquivo! (sempre devemos fechar os arquivos abertos)\n",
    "arq.close()"
   ]
  },
  {
   "cell_type": "markdown",
   "metadata": {},
   "source": [
    "O código acima cria um objeto ```arq``` da classe ```TextIOWrapper```\n",
    "(manipulador de arquivo de texto), abrindo o arquivo\n",
    "indicado no modo leitura."
   ]
  },
  {
   "cell_type": "markdown",
   "metadata": {},
   "source": [
    "**Atenção:** As operações com arquivos sempre podem lançar exceções. Portanto, é recomendado utilizar blocos ```try... except```. Depois de utilizar o arquivo, sempre deve ser chamado  o método ```close``` para liberar os recursos."
   ]
  },
  {
   "cell_type": "code",
   "execution_count": null,
   "metadata": {},
   "outputs": [],
   "source": [
    "try:\n",
    "    # o arquivo não existe!\n",
    "    arq = open('arq_que_nao_existe.txt', 'r')\n",
    "except Exception as err:\n",
    "    print(err)    \n",
    "finally:\n",
    "    arq.close() #No bloco finally para sempre ser executado"
   ]
  },
  {
   "cell_type": "markdown",
   "metadata": {},
   "source": [
    "## Lendo de Arquivos em Python\n",
    "\n",
    "Após aberto nos modos ```r``` ou ```r+```,\n",
    "é possível ler as informações do arquivo com alguns métodos\n",
    "da classe ```TextIOWrapper```:\n",
    "\n",
    "- ```readline```: retorna uma string contendo a próxima\n",
    "  linha do arquivo (altera a posição do ponteiro\n",
    "  no arquivo para o início da próxima linha)\n",
    "- ```readlines```: retorna uma lista de strings contendo todo o conteúdo do arquivo,\n",
    "  sendo uma linha do arquivo por item da lista\n",
    "  (altera a posição do ponteiro no arquivo para o final do arquivo)\n",
    "- ```read```: retorna uma string contendo todo o conteúdo do arquivo em uma\n",
    "  única string (altera a posição do ponteiro no arquivo para o final do arquivo)\n",
    "  "
   ]
  },
  {
   "cell_type": "code",
   "execution_count": null,
   "metadata": {},
   "outputs": [],
   "source": [
    "print('--- Ler todo o arquivo ---')\n",
    "arq = open('lista.txt', 'r')\n",
    "try:\n",
    "    print(arq.read())\n",
    "except Exception as E:\n",
    "    print(E)\n",
    "finally:\n",
    "    arq.close() #Sempre executar a operação close\n",
    "\n",
    "\n",
    "print('--- Ler todas as linha v 1.0 ---')\n",
    "arq = open('lista.txt', 'r')\n",
    "try:\n",
    "    l = arq.readline()\n",
    "    while l: #EOF (end of file) = '' = False\n",
    "        print(l) \n",
    "        #Note os 2 quebra linhas (\\n)\n",
    "        # Solução: print(l, end='') ou l = rstrip('\\n')\n",
    "        l = arq.readline()\n",
    "except Exception as E:\n",
    "    print(E)\n",
    "finally:\n",
    "    arq.close() #Sempre executar a operação close\n",
    "\n",
    "    \n",
    "print('--- Ler todas as linha v 2.0 ---')\n",
    "arq = open('lista.txt', 'r')\n",
    "try:\n",
    "    for l in arq.readlines():\n",
    "        print(l, end='') \n",
    "        \n",
    "except Exception as E:\n",
    "    print(E)\n",
    "finally:\n",
    "    arq.close() #Sempre executar a operação close\n",
    "    \n",
    "    \n",
    "print('--- Ler todas as linha v 3.0---')\n",
    "#Podemos iterar diretamente no objeto arq. A forma mais pythonica!\n",
    "arq = open('lista.txt', 'r')\n",
    "try:\n",
    "    for l in arq:\n",
    "        print(l, end='')\n",
    "        \n",
    "except Exception as E:\n",
    "    print(E)\n",
    "finally:\n",
    "    arq.close() #Sempre executar a operação close"
   ]
  },
  {
   "cell_type": "markdown",
   "metadata": {},
   "source": [
    "# Escrevendo em Arquivos\n",
    "\n",
    "Após aberto nos modos ```w```, ```r+``` ou ```a```,\n",
    "é possível escrever informações no arquivo com alguns métodos\n",
    "da classe ```TextIOWrapper```:\n",
    "\n",
    "- ```write```: escreve uma string passada como parâmetro no\n",
    "  arquivo (não adiciona quebra de linha)\n",
    "- ```writelines```: escreve cada uma das strings contidas em uma lista\n",
    "  passada como parâmetro no arquivo (não adiciona quebra de linha)\n",
    "- Utilizando um editor de texto do sistema operacional, veja o conteúdo do arquivo novo.txt após executar o código"
   ]
  },
  {
   "cell_type": "code",
   "execution_count": null,
   "metadata": {},
   "outputs": [],
   "source": [
    "try:\n",
    "    arq = open('novo.txt', 'w')\n",
    "    arq.write('Texto 1\\n')\n",
    "    arq.write('Texto 2\\n')\n",
    "except Exception as E:\n",
    "    print(E)\n",
    "finally:\n",
    "    arq.close()\n",
    "\n",
    "try:\n",
    "    # O conteúdo é sobrescrito!\n",
    "    arq = open('novo.txt', 'w')\n",
    "    arq.write('Texto 3\\n')\n",
    "    arq.write('Texto 4\\n')\n",
    "except Exception as E:\n",
    "    print(E)\n",
    "finally:\n",
    "    arq.close()\n",
    "\n",
    "try:\n",
    "\n",
    "    #Adicionar no final \n",
    "    arq = open('novo.txt', 'a')\n",
    "    arq.write('Texto 5\\n')\n",
    "    arq.write('Texto 6\\n')\n",
    "except Exception as E:\n",
    "    print(E)\n",
    "finally:\n",
    "    arq.close()\n"
   ]
  },
  {
   "cell_type": "markdown",
   "metadata": {},
   "source": [
    "## Métodos ```__enter__``` e ```__exit__```\n",
    "Considere a classe a seguir:\n"
   ]
  },
  {
   "cell_type": "code",
   "execution_count": null,
   "metadata": {},
   "outputs": [],
   "source": [
    "class C:\n",
    "    def __init__(self, val):\n",
    "        self.val = val\n",
    "        print('Init...')\n",
    "    def m(self):\n",
    "        print('Método m...')\n",
    "    def __enter__(self):\n",
    "        print('Entrando...')\n",
    "        return self \n",
    "    def __exit__(self, ex_type, ex_value, ex_traceback):\n",
    "        #Não se preocupe por enquanto com os parâmetros desse método.\n",
    "        print(f'Saindo...{ex_type, ex_value, ex_traceback}')\n",
    "\n",
    "#Versão não pythonica\n",
    "c = C(3)\n",
    "c.__enter__()\n",
    "try:\n",
    "    c.m()\n",
    "finally:\n",
    "    c.__exit__(None,None,None)\n",
    "\n",
    "#Versão pythonica\n",
    "with C(3) as c2: #note que __enter__ retorna self\n",
    "    c2.m()\n",
    "\n",
    "with C(3) as c2: #note que __enter__ retorna self\n",
    "    print(f'{1 / 0}') # Divisão por 0 (lança uma exceção )\n",
    "    #Note que Python passa automaticamente os parâmetros necessários ao método __exit__\n",
    "    c2.m()\n"
   ]
  },
  {
   "cell_type": "markdown",
   "metadata": {},
   "source": [
    "O bloco de código\n",
    "```\n",
    "with EXP:\n",
    "    BLOCO\n",
    "```\n",
    "\n",
    "é equivalente a\n",
    "```\n",
    "EXP.__enter__()\n",
    "try:\n",
    "    BLOCO\n",
    "finally:\n",
    "    EXP.__exit__(ex_type, ex_value, ex_traceback)\n",
    "```"
   ]
  },
  {
   "cell_type": "code",
   "execution_count": null,
   "metadata": {},
   "outputs": [],
   "source": [
    "#Abrir, ler e fechar (A forma mais pythonica)\n",
    "# O método close (para fechar o arquivo) vai ser sempre executado \n",
    "# Esse método é  chamado no método __exit__ da classe \n",
    "with open('lista.txt') as arq:\n",
    "    for l in arq:\n",
    "        print(l, end='')\n",
    "        "
   ]
  },
  {
   "cell_type": "markdown",
   "metadata": {},
   "source": [
    "## Arquivos binários "
   ]
  },
  {
   "cell_type": "code",
   "execution_count": null,
   "metadata": {},
   "outputs": [],
   "source": [
    "#Note o \"b\" para modo binário\n",
    "with open('dclasses.png', 'rb') as arq:\n",
    "    '''Formato png (cabeçalho):\n",
    "    - 89: número mágico de identificação\n",
    "    - Palavra PNG em ASCII\n",
    "    - \\r\\n\n",
    "    - Caractere EOF\n",
    "    - \\n\n",
    "    '''\n",
    "    print(arq.read(1))\n",
    "    print(arq.read(3))\n",
    "    print(arq.read(2))\n",
    "    print(arq.read(1))\n",
    "    print(arq.read(1))"
   ]
  },
  {
   "cell_type": "markdown",
   "metadata": {},
   "source": [
    "# Serialização\n",
    "Podemos escrever cada um dos atributos de um objeto utilizando um arquivo binário...e depois recuperar os dados para reconstruir o objeto. Porém, existe uma forma mais simples de fazer isso. "
   ]
  },
  {
   "cell_type": "code",
   "execution_count": null,
   "metadata": {},
   "outputs": [],
   "source": [
    "import pickle\n",
    "\n",
    "with open('objetos.bin', 'wb') as arq:\n",
    "    pickle.dump(42, arq)\n",
    "    pickle.dump(\"alo mundo\", arq)\n",
    "    \n",
    "with open('objetos.bin', 'rb') as arq:\n",
    "    xint = pickle.load(arq)\n",
    "    xstr = pickle.load(arq)\n",
    "    print(f'int={xint}, str={xstr}')    "
   ]
  },
  {
   "cell_type": "code",
   "execution_count": null,
   "metadata": {},
   "outputs": [],
   "source": [
    "# Utilizando classes e pickle\n",
    "\n",
    "class Curso:\n",
    "    def __init__(self, nome, creditos):\n",
    "        self._nome = nome\n",
    "        self._creditos = creditos\n",
    "        \n",
    "    def __repr__(self):\n",
    "        return f'Curso({self._nome, self._creditos})'\n",
    "    \n",
    "class Aluno:\n",
    "    def __init__(self, cpf, nome, curso):\n",
    "        self._cpf = cpf\n",
    "        self._nome = nome\n",
    "        self._curso = curso\n",
    "    def __repr__(self):\n",
    "        return f'Pessoa({self._nome}, {self._cpf}, {self._curso})'\n",
    "\n",
    "c1 = Curso('BCT',1200)\n",
    "c2 = Curso('BTI',1200)\n",
    "\n",
    "l = [Aluno('cpf1','pessoa1',c1),Aluno('cpf2','pessoa2',c2), Aluno('cpf3','pessoa3',c1) ]    \n",
    "with open('objetos.bin', 'wb') as arq:\n",
    "    pickle.dump(l, arq)\n",
    "    \n",
    "with open('objetos.bin', 'rb') as arq:\n",
    "    l2 = pickle.load(arq)\n",
    "    print(l2)    \n",
    "\n"
   ]
  },
  {
   "cell_type": "markdown",
   "metadata": {},
   "source": [
    "## Exercício\n",
    "\n",
    "Defina uma classe qualquer (por exemplo, Pessoa, Carro, Produto, etc) com pelo menos 4 atributos. Adicione um atributo de classe/static ```DOBJ``` para armazenar um dicionário com os objetos dessa classe.\n",
    "\n",
    "Considere os métodos static a seguir:\n",
    " - ```carregar```: para ler um arquivo e adicionar os objetos aí armazenados ao dicionário ```DOBJ```\n",
    " - ```salvar:``` para escrever num arquivo os objetos armazenados em  ```DOBJ```\n"
   ]
  },
  {
   "cell_type": "code",
   "execution_count": null,
   "metadata": {},
   "outputs": [],
   "source": []
  }
 ],
 "metadata": {
  "kernelspec": {
   "display_name": "Python 3",
   "language": "python",
   "name": "python3"
  },
  "language_info": {
   "codemirror_mode": {
    "name": "ipython",
    "version": 3
   },
   "file_extension": ".py",
   "mimetype": "text/x-python",
   "name": "python",
   "nbconvert_exporter": "python",
   "pygments_lexer": "ipython3",
   "version": "3.8.6"
  }
 },
 "nbformat": 4,
 "nbformat_minor": 2
}
