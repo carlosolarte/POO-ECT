{
 "cells": [
  {
   "cell_type": "markdown",
   "metadata": {},
   "source": [
    "# Métodos e Atributos de Classe\n",
    "\n",
    "## Objetivo da aula:\n",
    "\n",
    "- Apresentar métodos e atributos de classe:\n",
    "    - Utilidade\n",
    "    - Sintaxe (utilizando decoradores --*decorators*--)\n",
    "\n",
    "## Motivação\n",
    "\n",
    "### Exemplo 1\n",
    "Considere a classe Cachorro que deve armazenar o nome do animal. Além disso, sabemos que todo cachorro tem 4 patas."
   ]
  },
  {
   "cell_type": "code",
   "execution_count": 1,
   "metadata": {},
   "outputs": [
    {
     "name": "stdout",
     "output_type": "stream",
     "text": [
      "Cachorro('Fifi', 4) Cachorro('Firulais', 4)\n",
      "Cachorro('Fifi', 3) Cachorro('Firulais', 4)\n"
     ]
    }
   ],
   "source": [
    "#Primeira tentativa\n",
    "class Cachorro:\n",
    "    def __init__(self, nome):\n",
    "        self.nome = nome\n",
    "        self.patas = 4 # Atributo\n",
    "        \n",
    "    def __str__(self):\n",
    "        return f'Cachorro{(self.nome, self.patas)}'\n",
    "        \n",
    "# Note que cada instância da classe Cachorro pode ter um número diferente de patas\n",
    "C1 = Cachorro('Fifi')\n",
    "C2 = Cachorro('Firulais')\n",
    "print(C1,C2)\n",
    "# Se Fifi perder uma pata...\n",
    "C1.patas -= 1\n",
    "print(C1,C2)\n",
    "#Cada instância (objeto) da classe possui seu próprio atributo patas    "
   ]
  },
  {
   "cell_type": "code",
   "execution_count": 2,
   "metadata": {},
   "outputs": [
    {
     "name": "stdout",
     "output_type": "stream",
     "text": [
      "Cachorro('Fifi', 4) Cachorro('Firulais', 4)\n",
      "Fifi\n",
      "4\n",
      "Cachorro('Fifi', 5) Cachorro('Firulais', 5)\n",
      "Cachorro('Fifi', 6) Cachorro('Firulais', 5)\n",
      "6 5\n"
     ]
    }
   ],
   "source": [
    "# Mas... porque precisamos armazenar em cada instância o número de patas ? \n",
    "# O número de patas deveria ser uma atributo global da classe Cachorro \n",
    "# (compartilhado por todas as instâncias)\n",
    "\n",
    "class Cachorro:\n",
    "    patas =4 # Atributo da classe!\n",
    "    def __init__(self, nome):\n",
    "        self.nome = nome\n",
    "        \n",
    "    def __str__(self):\n",
    "        return f'Cachorro{(self.nome, self.patas)}'\n",
    "        \n",
    "\n",
    "C1 = Cachorro('Fifi')\n",
    "C2 = Cachorro('Firulais')\n",
    "print (C1,C2)\n",
    "# O nome do cachorro é um atributo da instância\n",
    "print(C1.nome)\n",
    "# Mas patas é um atributo da classe\n",
    "print (Cachorro.patas)\n",
    "# patas é um atributo compartilhado por todas as instâncias\n",
    "Cachorro.patas += 1 # cachorros mutando... com 5 patas\n",
    "print (C1,C2)\n",
    "C1.patas += 1 # Aqui Python cria um novo atributo da instância C1\n",
    "print (C1,C2)\n",
    "#C1 possui agora 2 atributos diferentes\n",
    "print(C1.patas, C1.__class__.patas)"
   ]
  },
  {
   "cell_type": "markdown",
   "metadata": {},
   "source": [
    "## Exemplo 2\n",
    "Suponha que queremos armazenar a quantidade de instâncias de uma classe como atributo desta classe. Como proceder?"
   ]
  },
  {
   "cell_type": "code",
   "execution_count": 3,
   "metadata": {},
   "outputs": [
    {
     "name": "stdout",
     "output_type": "stream",
     "text": [
      "1 1\n"
     ]
    }
   ],
   "source": [
    "# Tentativa No 1\n",
    "class Pessoa:\n",
    "    def __init__(self, nome=''):\n",
    "        self._nome = nome\n",
    "        self._quant = 0\n",
    "        self._quant += 1\n",
    "\n",
    "# _quant é um atributo que pertence a cada instância (não é compartilhado)\n",
    "P1 = Pessoa('carlos')\n",
    "P2 = Pessoa('maria')\n",
    "# Não funciona!!!\n",
    "print(P1._quant,P2._quant )\n",
    "\n",
    "\n",
    "                 "
   ]
  },
  {
   "cell_type": "markdown",
   "metadata": {},
   "source": [
    "- O atributo ```_quant``` pertence à cada instância da classe ```Pessoa``` (com valores diferentes para cada instância)\n",
    "    - ```_quant``` é um **atributo de instância**\n",
    "    - Um atributo de instância pertence a um objeto específico de uma classe\n",
    "    - Até agora, os atributos e métodos implementados são atributos/métodos de instância\n",
    "- É necessário portanto algum mecanismo que **armazene dados referentes à classe** (e não a um objeto)\n"
   ]
  },
  {
   "cell_type": "code",
   "execution_count": 4,
   "metadata": {},
   "outputs": [
    {
     "name": "stdout",
     "output_type": "stream",
     "text": [
      "3\n"
     ]
    }
   ],
   "source": [
    "# Tentativa No 2\n",
    "class Pessoa:\n",
    "    _quant = 0 # Atributo da classe\n",
    "    def __init__(self, nome=''):\n",
    "        self._nome = nome\n",
    "        #Note o uso do nome da classe\n",
    "        Pessoa._quant += 1\n",
    "        # Alternativamente: \n",
    "        #self.__class__._quant += 1\n",
    "\n",
    "P1 = Pessoa('carlos')\n",
    "P2 = Pessoa('maria')\n",
    "P3 = Pessoa('joão')\n",
    "print(Pessoa._quant)"
   ]
  },
  {
   "cell_type": "markdown",
   "metadata": {},
   "source": [
    "## Métodos e Atributos de Classe\n",
    "\n",
    "- As linguagens de programação possuem o mecanismo de atrelar métodos e atributos a uma classe (em alternativa a uma instância da classe)\n",
    "- Este mecanismo é chamado de dados estáticos (*static*) e são conhecidos como:\n",
    "    - *Atributos de classe* ou *atributos estáticos*\n",
    "    - *Métodos de classe* ou *métodos estáticos*\n",
    "- Métodos e atributos de classe **não precisam de uma instância da classe** para serem utilizados\n",
    "\n",
    "### Atributos de Classe\n",
    "\n",
    "Considere a última versão da classe ```Pessoa```:\n",
    " - Para criar um atributo de classe, devemos declará-lo fora de qualquer método \n",
    " - Para acessar os dados presentes nos atributos de classe, devemos utilizar como prefixo o **nome da classe**."
   ]
  },
  {
   "cell_type": "markdown",
   "metadata": {},
   "source": [
    "# Métodos de Classe\n",
    "\n",
    "Em Python existem 3 tipos de métodos dentro de uma classe:\n",
    " - Métodos de instância (o primeiro parâmetro é ```self```)\n",
    "  - Esses métodos podem acessar os atributos da instância (utilizando a referência ```self```)\n",
    " - Métodos de classe (o primeiro parâmetro é uma classe, não uma instância)\n",
    "  - Esses métodos só podem acessar os atributos da classe \n",
    " - Métodos static (não precisam de parâmetro). "
   ]
  },
  {
   "cell_type": "code",
   "execution_count": 5,
   "metadata": {},
   "outputs": [
    {
     "name": "stdout",
     "output_type": "stream",
     "text": [
      "método da instância: a:1. Instância: <__main__.A object at 0x10b2ff0a0>\n",
      "método da instância: a:2. Instância: <__main__.A object at 0x10b2ff0a0>\n",
      "método da classe: numIns:1. Class: <class '__main__.A'>\n",
      "método da classe: numIns:1. Class: <class '__main__.A'>\n",
      "<class '__main__.A'>\n",
      "método static... sem parâmetros. A.numIns: 1\n",
      "método static... sem parâmetros. A.numIns: 1\n"
     ]
    }
   ],
   "source": [
    "# Exemplo de métodos\n",
    "\n",
    "class A:\n",
    "    numIns = 0 #Número de instâncias da classe.\n",
    "    def __init__(self, a=0):\n",
    "        self.a = a\n",
    "        A.numIns += 1 # Note o uso da classe A como prefixo\n",
    "        \n",
    "    # Método da instância (precisa de self)    \n",
    "    def metodoIns(self):\n",
    "        '''Pode acessar self.a'''\n",
    "        self.a +=1\n",
    "        print(f'método da instância: a:{self.a}. Instância: {self}')\n",
    "    \n",
    "    # Método da classe (precisa de cls -- a classe -- em lugar de self --a instância--)\n",
    "    @classmethod\n",
    "    def metodoClasse(cls):\n",
    "        '''Só pode acessar atributos da classe'''\n",
    "        # Note que \"self\" não \"existe\" dentro deste método (e, portanto, não pode ser utilizado)\n",
    "        print(f'método da classe: numIns:{cls.numIns}. Class: {cls}')\n",
    "    \n",
    "    @staticmethod\n",
    "    # Método static (não precisa de nenhum parâmetro )    \n",
    "    def metodoStatic():\n",
    "        # Note que \"self\" não \"existe\" dentro deste método (e, portanto, não pode ser utilizado)\n",
    "        print(f'método static... sem parâmetros. A.numIns: {A.numIns}')\n",
    "        \n",
    "        \n",
    "oa = A()\n",
    "#Método da instância\n",
    "oa.metodoIns()\n",
    "# A.metodoIns() Erro!! metodoIns precisa de uma instância!\n",
    "\n",
    "# Podemos utilizar também a notação sem ponto\n",
    "# Note que passamos como parâmetro oa\n",
    "A.metodoIns(oa)\n",
    "\n",
    "# Métodos de classe\n",
    "A.metodoClasse()\n",
    "# Também podemos utilizar uma instância... \n",
    "# mas só a classe é passada como parâmetro\n",
    "oa.metodoClasse()\n",
    "\n",
    "print(oa.__class__) # Em Python, .__class__ retorna a classe do objeto\n",
    "\n",
    "# Método static\n",
    "A.metodoStatic()\n",
    "oa.metodoStatic()        "
   ]
  },
  {
   "cell_type": "markdown",
   "metadata": {},
   "source": [
    "## Métodos e Atributos de Classe: UML\n",
    "\n",
    "A notação UML utiliza *texto sublinhado* para\n",
    "denotar métodos e atributos de classe:\n",
    "\n",
    "![UML](./classe_pessoa_static.png)\n"
   ]
  },
  {
   "cell_type": "markdown",
   "metadata": {},
   "source": [
    "\n",
    "## Exemplo (Factory Method)\n",
    " Um *factory method* é utilizado para criar objetos de uma classe. \n",
    " \n",
    " No exemplo a seguir, utilizaremos  métodos de classe para gerar pizzas já conhecidas."
   ]
  },
  {
   "cell_type": "code",
   "execution_count": 6,
   "metadata": {},
   "outputs": [
    {
     "name": "stdout",
     "output_type": "stream",
     "text": [
      "Pizza margarita: ['mozzarella', 'manjericão', 'tomate']\n",
      "Pizza: Pizza quatro queijos: ['queijo', 'queijo', 'queijo', 'queijo'] com 16 fatias\n",
      "Uma pizza m tem 8\n"
     ]
    }
   ],
   "source": [
    "class Pizza:\n",
    "    # os tipos/tamanhos das pizzas são comuns a todas as pizzas\n",
    "    _fatias = {'p':6, 'm':8, 'g':10, 'gg':16}\n",
    "    \n",
    "    def __init__(self, ingredientes, nome, tam = 'm'):\n",
    "        self.nome = nome\n",
    "        self.tam = tam\n",
    "        self.ingredientes = ingredientes\n",
    "        \n",
    "    def fatias(self):\n",
    "        '''Número de fatias de uma *instância*'''\n",
    "        # Note o uso de self (instância) e Pizza (classe)\n",
    "        return Pizza._fatias[self.tam]\n",
    "    \n",
    "    @staticmethod\n",
    "    def numFatias(tam):\n",
    "        '''Dado um tamanho, retorna o número de fatias'''\n",
    "        # Note que a Pizza específica (instância) é irrelevante\n",
    "        return Pizza._fatias[tam]\n",
    "    \n",
    "    def __str__(self):\n",
    "        return f'Pizza {self.nome}: {self.ingredientes}'\n",
    "    \n",
    "    # Gerando algumas Pizzas conhecidas\n",
    "    @staticmethod\n",
    "    def margarita(tam='m'):\n",
    "        return Pizza(['mozzarella', 'manjericão', 'tomate'], 'margarita',tam)\n",
    "\n",
    "\n",
    "    @staticmethod\n",
    "    def nordestina(tam='m'):\n",
    "        return Pizza(['carne de sol', 'queijo coalho'],'nordestina',tam)\n",
    "\n",
    "        \n",
    "PM = Pizza.margarita()\n",
    "print(PM)\n",
    "P = Pizza(['queijo']*4,'quatro queijos', 'gg')\n",
    "# Note a diferencia entre os métodos fatias (instância) e numFatias (classe)\n",
    "print(f'Pizza: {P} com {P.fatias()} fatias')\n",
    "print(f'Uma pizza {\"m\"} tem {Pizza.numFatias(\"m\")}')\n",
    "\n"
   ]
  },
  {
   "cell_type": "markdown",
   "metadata": {},
   "source": [
    "## Exercício\n",
    "Considere um sistema de votação utilizando urnas electrónicas:\n",
    " - De cada urna precisamos saber o seu endereço\n",
    " - As pessoas votam por um (e só um) dos candidatos cadastrados na eleição\n",
    " - Uma pessoa não pode votar mais de uma vez (seja na mesma urna ou em urnas diferentes)\n",
    " - No final da votação, precisamos contar o número de votos por cada urna e escolher o candidato ganhador. \n"
   ]
  }
 ],
 "metadata": {
  "kernelspec": {
   "display_name": "Python 3",
   "language": "python",
   "name": "python3"
  },
  "language_info": {
   "codemirror_mode": {
    "name": "ipython",
    "version": 3
   },
   "file_extension": ".py",
   "mimetype": "text/x-python",
   "name": "python",
   "nbconvert_exporter": "python",
   "pygments_lexer": "ipython3",
   "version": "3.8.5"
  }
 },
 "nbformat": 4,
 "nbformat_minor": 4
}
