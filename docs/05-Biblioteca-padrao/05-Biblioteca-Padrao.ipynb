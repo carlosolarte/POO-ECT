{
 "cells": [
  {
   "cell_type": "markdown",
   "metadata": {},
   "source": [
    "# Estruturas de Dados e Biblioteca Padrão\n",
    "\n",
    " \n",
    "## Tuplas\n",
    "\n",
    "- Utilizadas para guardar vários valores agrupados\n",
    "- Definidas pela especificação de vários elementos separados por vírgula entre parênteses ```()```\n",
    "- Exemplos:\n",
    "    - Tupla de inteiros: ```a = (1,2,3)```\n",
    "    - Tupla de strings: ```b = ('aló','mundo')```\n",
    "    - Tupla mista: ```c = ((1, 'cálculo',10), (2, 'álgebra', 9))```\n",
    "\n",
    "- Uma tupla não é alterável: uma vez definida, ela não pode ser alterada\n",
    "\n"
   ]
  },
  {
   "cell_type": "code",
   "execution_count": null,
   "metadata": {},
   "outputs": [],
   "source": [
    "# Exemplo: Uma função que retorna dois valores\n",
    "def sumprod(x, y):\n",
    "    '''Retorna a soma e o produto de um número'''\n",
    "    return (x+y, x*y)\n",
    "\n",
    "a,b = sumprod(3,5) # Atribuir em a o primeiro resultado e em b o segundo\n",
    "print(f'a={a}, b={b}')"
   ]
  },
  {
   "cell_type": "code",
   "execution_count": null,
   "metadata": {},
   "outputs": [],
   "source": [
    "# Definir uma tupla\n",
    "l = ('alo', 3)\n",
    "x = l[0] # Acessar o primeiro elemento da tupla\n",
    "y = l[1]\n",
    "print(x,y)\n",
    "#Mais fácil\n",
    "(x,y) = l\n",
    "print(x,y)\n",
    "# As tuplas são imutáveis \n",
    "l[0] = 'mundo' #Erro!!\n",
    "\n"
   ]
  },
  {
   "cell_type": "markdown",
   "metadata": {},
   "source": [
    "### Percorrer os elementos de uma Tupla\n",
    "\n",
    "As classes Tuple, List, Set, etc podem ser \"iteradas\". Um iterável é um objeto que define a operação ```next``` que retorna o próximo elemento ou lança uma excepção ```StopIteration``` quando não tiver mais elementos (mais na frente estudaremos o mecanismo de erros e exceções). \n"
   ]
  },
  {
   "cell_type": "code",
   "execution_count": null,
   "metadata": {},
   "outputs": [],
   "source": [
    "t = ('a','b','c')\n",
    "i = iter(t) # O iterador da tupla t\n",
    "print(next(i)) #'a'\n",
    "print(next(i)) #'b'\n",
    "print(next(i)) #'c'\n",
    "# O próximo next lança uma excepção\n",
    "next(i) #Erro! "
   ]
  },
  {
   "cell_type": "code",
   "execution_count": null,
   "metadata": {},
   "outputs": [],
   "source": [
    "#Normalmente utilizamos laços FOR:\n",
    "t = ('a','b','c')\n",
    "for i in t:\n",
    "    print(i)"
   ]
  },
  {
   "cell_type": "markdown",
   "metadata": {},
   "source": [
    "### Generators\n",
    "Podemos utilizar o comando ```yield``` para definir um ```generator``` que produz valores que vão sendo consumidos sob demanda. Todo ```generator``` é um ```iterator``` (relação de herança!). Segue um exemplo simples de um ```generator``` que vai retornando, sob demanda, a sequência Fibonacci. "
   ]
  },
  {
   "cell_type": "code",
   "execution_count": null,
   "metadata": {},
   "outputs": [],
   "source": [
    "# Gerar sob demanda a sequência fibonacci \n",
    "def fib(n):\n",
    "    '''n >= 2 é o número de elementos a serem gerados '''\n",
    "    a = b = 1 #Sim, isso funciona em Python\n",
    "    yield a # Gerar o primeiro valor\n",
    "    yield b # Gerar o segundo valor\n",
    "\n",
    "    # Gerar os outros valores\n",
    "    for i in range(n-2):\n",
    "        s = a + b\n",
    "        yield s\n",
    "        # Atualizar a e b\n",
    "        a,b = b, s # Atribuição simultânea\n",
    "        \n",
    "for x in fib(10):\n",
    "    print(x)\n",
    "\n",
    "type(fib(10)) # Um generator    "
   ]
  },
  {
   "cell_type": "markdown",
   "metadata": {},
   "source": [
    "## Listas\n",
    "- Utilizadas para guardar uma coleção de valores que pode variar\n",
    "- Definidas pela especificação de vários elementos separados por vírgula entre colchetes ```[]```\n",
    "- Exemplos:\n",
    "    - Lista de inteiros: ```a = [1,2,3]```\n",
    "    - Lista de strings: ```b = ['alo','mundo']```\n",
    "    - Lista mista: ```c = [1.93, 'alo', (0,'aula')]```\n",
    "    \n",
    "### Operações\n",
    "É possível acessar os  elementos da lista utilizando a notação de posição entre colchetes:\n",
    "\n",
    "- ```s[0]``` acessa o primeiro elemento de  ```s```, ```s[1]``` o segundo e assim por diante\n",
    "- ```s[-1]``` acessa o último elemento de ```s```, ```s[-2]``` o penúltimo e assim por diante\n",
    "- Caso o índice ```i``` em ```s[i]``` seja maior ou igual ao total de elementos, ocorre um erro de execução\n",
    "- Também é possível realizar o fatiamento de uma sequência:\n",
    "    - ```s[2:5]```: acessa os elementos de índice 2, 3 e 4\n",
    "    - ```s[i:j]```: acessa os elementos de índice ```i``` até ```j-1```\n",
    "    - ```s[i:]```: acessa os elementos de índice ```i``` até o último índice da sequência\n",
    "    - ```s[:i]```: acessa os elementos do primeiro índice até o índice ```i-1```\n",
    "    - ```s[i:j:d]```: acessa os elementos de índice ```i``` até ```j-1``` com incremento de ```d```"
   ]
  },
  {
   "cell_type": "code",
   "execution_count": null,
   "metadata": {},
   "outputs": [],
   "source": [
    "# Exemplos\n",
    "l = [1,2,3,4]\n",
    "print(l[0])\n",
    "print(l[1:])\n",
    "print(l[:2])\n",
    "print(l[::-1]) # Ordem reversa!"
   ]
  },
  {
   "cell_type": "markdown",
   "metadata": {},
   "source": [
    "- Função ```len```: retorna o tamanho da lista\n",
    "- Operador ```in```: retorna verdadeiro caso um elemento pertença à sequência, ou falso caso contrário\n",
    "- Variáveis podem ser convertidas usando as funções de conversão correspondentes (```str()```, ```tuple()``` ou ```list()```)"
   ]
  },
  {
   "cell_type": "code",
   "execution_count": null,
   "metadata": {},
   "outputs": [],
   "source": [
    "l = ['a','b','c']\n",
    "t = tuple(l)\n",
    "print(t)\n",
    "print(len(t))\n",
    "print('b' in l)\n",
    "print(list(range(1,10,2)))"
   ]
  },
  {
   "cell_type": "code",
   "execution_count": null,
   "metadata": {},
   "outputs": [],
   "source": [
    "#Podemos iterar nas listas\n",
    "l = ['a','b','c']\n",
    "#Estilo c++ \n",
    "for i in range(len(l)):\n",
    "    print(l[i], end='-') # end é o caractere a ser impresso no final (padrão, \\n)\n",
    "\n",
    "print('\\n============================')\n",
    "\n",
    "# Lembre o Zen de Python... \"Beautiful is better than ugly.\"\n",
    "\n",
    "for i in l:\n",
    "    print(i,end=' - ')\n",
    "    \n",
    "print('\\n============================')    \n",
    "\n",
    "# enumerate: retorna uma enumeração (tuplas (id, valor))\n",
    "for e in enumerate(l):\n",
    "    print(e, end=' - ')\n",
    "\n",
    "print('\\n============================')    \n",
    "\n",
    "#Uso comum\n",
    "for (i,v) in enumerate(l):\n",
    "    print(f'indice={i}, valor={v}')\n",
    "\n"
   ]
  },
  {
   "cell_type": "code",
   "execution_count": null,
   "metadata": {},
   "outputs": [],
   "source": [
    "# Existem outras funções úteis implementadas na classe ```list```. Seguem alguns exemplos:\n",
    "l=[1,4,2,6,4]\n",
    "l.sort() #Ordenar \n",
    "print(l)\n",
    "print(max(l)) #Maior elemento\n",
    "print(min(l)) #Menor elemento\n",
    "print(sum(l)) #Sumatório\n",
    "\n",
    "l2 = l.copy() #Criar uma copia\n",
    "print(l2)\n",
    "print(l.count(4)) #Número de ocorrências do número 4 na lista "
   ]
  },
  {
   "cell_type": "markdown",
   "metadata": {},
   "source": [
    "Também existem funções para adicionar e remover elementos da lista"
   ]
  },
  {
   "cell_type": "code",
   "execution_count": null,
   "metadata": {},
   "outputs": [],
   "source": [
    "l = [] #Lista vazia\n",
    "l.append(1)\n",
    "print(l)\n",
    "l2 = [2,3,4]\n",
    "l.extend(l2) #Adicionar os elementos de l2 em l\n",
    "print(l)\n",
    "l3 = l + l #Concatenar\n",
    "print(l3)\n",
    "l=[1,3]\n",
    "l.insert(1,2) #Inserir o número 2 na posição 1\n",
    "print(l)\n",
    "l.clear() #Remover todos os elementos\n",
    "print(l)\n",
    "l = ['a','b','c','b']\n",
    "l.remove('b') #Remover a primeira ocorrência \n",
    "print(l)\n",
    "l.pop() #Remover o último elemento\n",
    "print(l)\n",
    "l += ['e','f','g']\n",
    "print(l)\n",
    "l.pop(1) #Remover o elemento na posição 1\n",
    "print(l)\n"
   ]
  },
  {
   "cell_type": "code",
   "execution_count": null,
   "metadata": {},
   "outputs": [],
   "source": [
    "#Sempre que tiver dúvidas, utilize help\n",
    "help(list)"
   ]
  },
  {
   "cell_type": "markdown",
   "metadata": {},
   "source": [
    "## Strings\n",
    "As strings também podem ser vistas como listas.\n"
   ]
  },
  {
   "cell_type": "code",
   "execution_count": null,
   "metadata": {},
   "outputs": [],
   "source": [
    "s = \"alo\"\n",
    "print(s[0])\n",
    "sinv = s[::-1]\n",
    "print(sinv)\n",
    "s2 = \"alo mundo Python\"\n",
    "print(s2.count(' '))\n",
    "s2 += \"!\"\n",
    "print(s2)"
   ]
  },
  {
   "cell_type": "markdown",
   "metadata": {},
   "source": [
    "## Conjuntos\n",
    "A classe ```set```implementa um conjunto de elementos:\n",
    " * Definido pela especificação de vários elementos separados por coma entre chaves(```{}```)\n",
    " * Os elementos **não** podem ser acessados utilizando ```[]```\n",
    " * Os elementos contidos no conjunto não podem ser modificados\n",
    " * Podemos adicionar elementos com o método ```add```\n",
    "\n",
    "Existem métodos implementando as operações usuais de conjuntos: \n",
    " * ```union```: união de conjuntos\n",
    " * ```difference```: diferença de conjuntos\n",
    " * ```intersection```: interseção de conjuntos"
   ]
  },
  {
   "cell_type": "code",
   "execution_count": null,
   "metadata": {},
   "outputs": [],
   "source": [
    "# Lembre que os conjuntos não possuem elementos repetidos e a \n",
    "# ordem dos elementos é irrelevante. \n",
    "# Por tanto, {1,2,3} representa o mesmo conjunto {3,2,1} \n",
    "# (no sentido que os dois conjuntos possuem os mesmos elementos)\n",
    "# Pela mesma razão, os conjuntos {1,1,2,2,3,3} é {1,2,3} são equivalentes \n",
    "\n",
    "s = {1,2,3} \n",
    "print(s)\n",
    "s = s.union({3,4,5}) # o número 3 aparece só uma vez\n",
    "print(s)\n",
    "s.update({5,6,7}) #Atualiza o conjunto com a união\n",
    "print(s)\n",
    "b = 5 in s # Está contido ? \n",
    "print(b)\n",
    "print(s.intersection({2,7,10}))\n",
    "print(s.difference({2,7,10}))\n",
    "\n",
    "# Eliminar os duplicados de uma lista\n",
    "l = [1,3,2,4,5,3,2,4,6,3,2]\n",
    "print(l)\n",
    "s = set(l)\n",
    "print(s)"
   ]
  },
  {
   "cell_type": "markdown",
   "metadata": {},
   "source": [
    "## Dicionários\n",
    "\n",
    "- Tipo de dados ```dict```\n",
    "- Utilizado para armazenar vários pares formados por uma chave e um valor\n",
    "- Definido pela especificação de vários pares ```chave: valor``` separados por vírgula entre chaves ```{}```\n",
    "- Exemplos de dicionários:\n",
    "    - ```d1 = {0: 'zero', 1: 'um', 2: 'dois'}```\n",
    "    - ```d2 = {'zero': 0, 'um': 1, 'dois': 2}```\n",
    "    - ```d3 = {'zero': 0, 1: [1,2,3], 'c': (3.0, -3.0)}```\n",
    "- O acesso aos seus elementos se dá com o uso da chave entre colchetes"
   ]
  },
  {
   "cell_type": "code",
   "execution_count": null,
   "metadata": {},
   "outputs": [],
   "source": [
    "d = {1:'um', 2:'dois', 3:'três'}\n",
    "print(d[2])\n",
    "#Podemos adicionar elementos utilizando []\n",
    "d[4] = 'quatro'\n",
    "print(d)\n",
    "#Podemos alterar o valor de uma chave\n",
    "d[1] = 'one'\n",
    "print(d)\n",
    "\n",
    "#Percorrer os elementos (chaves)\n",
    "for i in d:\n",
    "    print(i, end='-')\n",
    "print()\n",
    "\n",
    "#Percorrer chaves e valores\n",
    "for (i,v) in d.items():\n",
    "    print(f'd[{i}]={v}', end=' - ')\n",
    "\n",
    "print()\n",
    "b = 2 in d\n",
    "print(b)"
   ]
  },
  {
   "cell_type": "markdown",
   "metadata": {},
   "source": [
    "Os dicionários são muito úteis para acessar informações indexadas por uma chave."
   ]
  },
  {
   "cell_type": "code",
   "execution_count": null,
   "metadata": {},
   "outputs": [],
   "source": [
    "class Pessoa:\n",
    "    '''Definição de uma Pessoa'''\n",
    "    def __init__(self, cpf, nome, fone):\n",
    "        self.cpf = cpf\n",
    "        self.nome = nome\n",
    "        self.fone = fone\n",
    "        \n",
    "    def __str__(self):\n",
    "        return f'cpf={self.cpf}, nome={self.nome}, fone={self.fone} '\n",
    "    \n",
    "pessoas = {} # Criar um dicionário\n",
    "P1 = Pessoa('11111-1', 'carlos', '12345')\n",
    "P2 = Pessoa('22222-2', 'mario', '54321')\n",
    "P3 = Pessoa('33333-3', 'joão', '133245')\n",
    "\n",
    "pessoas[P1.cpf] = P1\n",
    "pessoas[P2.cpf] = P2\n",
    "pessoas[P3.cpf] = P3\n",
    "\n",
    "cpf = '22222-2'\n",
    "if cpf in pessoas:\n",
    "    print(f'Pessoa: {pessoas[cpf]}')\n",
    "else:\n",
    "    print('CPF não cadastrado')\n",
    "\n"
   ]
  },
  {
   "cell_type": "markdown",
   "metadata": {},
   "source": [
    "## Exercícios\n",
    "Utilize as estruturas de dados acima para solucionar os exercícios a seguir. Pense na forma mais simples de resolver o problema. Utilizando a estrutura adequada (e os métodos dela), 5 linhas de código devem ser suficientes em cada caso. \n",
    "\n",
    " * Implemente uma função que determine se uma lista contem elementos repetidos\n",
    " * Implemente uma função que determine se uma lista está ordenada ou não\n",
    " * Como poderíamos definir uma matriz de dimensão n x m ? Faça uma função que retorne a matriz identidade de dimensão n. \n",
    " * Implemente uma função que, dado um CEP, retorne o nome da rua. (Ver, por exemplo, https://cep.guiamais.com.br/busca/natal-rn)\n",
    " * Faça uma função que, dadas duas listas l1, l2, determine se todos os elementos de l1 estão contidos em l2. \n",
    " * Faça uma função que ordene uma lista em ordem reversa\n",
    " * Implemente uma função que determine se uma palavra é um palíndromo. "
   ]
  },
  {
   "cell_type": "code",
   "execution_count": null,
   "metadata": {},
   "outputs": [],
   "source": []
  }
 ],
 "metadata": {
  "kernelspec": {
   "display_name": "Python 3",
   "language": "python",
   "name": "python3"
  },
  "language_info": {
   "codemirror_mode": {
    "name": "ipython",
    "version": 3
   },
   "file_extension": ".py",
   "mimetype": "text/x-python",
   "name": "python",
   "nbconvert_exporter": "python",
   "pygments_lexer": "ipython3",
   "version": "3.8.5"
  }
 },
 "nbformat": 4,
 "nbformat_minor": 4
}
