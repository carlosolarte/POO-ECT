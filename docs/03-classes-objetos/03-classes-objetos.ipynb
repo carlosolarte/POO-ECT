{
 "cells": [
  {
   "cell_type": "markdown",
   "metadata": {},
   "source": [
    "# Classes em Python"
   ]
  },
  {
   "cell_type": "markdown",
   "metadata": {},
   "source": [
    "Em toda classe devemos definir: \n",
    " * **Atributos**: características de cada objeto que devemos armazenar. \n",
    " * Um **construtor**: inicializando os atributos. \n",
    " * **Métodos** definindo o comportamento\n",
    " "
   ]
  },
  {
   "cell_type": "code",
   "execution_count": null,
   "metadata": {},
   "outputs": [],
   "source": [
    "class Ponto:\n",
    "    '''Representação de uma coordenada no plano cartesiano'''\n",
    "    \n",
    "    def __init__(self, x, y):\n",
    "        '''Inicialização das coordenadas x e y'''\n",
    "        self.x = x\n",
    "        self.y = y\n",
    "        \n",
    "\n",
    "class Circulo:\n",
    "    '''Representação de um círculo'''\n",
    "    \n",
    "    def __init__(self, centro, raio):\n",
    "        '''Centro (x,y) e raio do círculo'''\n",
    "        self.centro = centro\n",
    "        self.raio = raio"
   ]
  },
  {
   "cell_type": "markdown",
   "metadata": {},
   "source": [
    "Em Python, todo método possui pelo menos um parâmetro:\n",
    " * Este parâmetro, que é sempre o primeiro do método, é uma referência ao próprio objeto\n",
    " * Convenção **fortemente utilizada**: nomear o parâmetro de ```self```\n",
    " * Referência explícita, enquanto em outras linguagens a referência é implícita\n",
    " * Similar to ```this``` em Java ou C++\n",
    " \n",
    "## Construtores \n",
    "O método ```__init__```:\n",
    " * Método especial para inicializar (os atributos dos) objetos. \n",
    " * Equivalente ao construtor de outras linguagens\n",
    " * Suporta vários parâmetros (o primeiro deveria ser ```self```)\n",
    " * Em Python, todos os membros de um objeto são declarados neste método\n",
    " * Chamado automaticamente quando um objeto da classe é instanciado\n",
    "\n",
    "## Criando Objetos\n",
    "Lembre, os objetos são instâncias de uma classe"
   ]
  },
  {
   "cell_type": "code",
   "execution_count": null,
   "metadata": {},
   "outputs": [],
   "source": [
    "# Criando um ponto\n",
    "p1 = Ponto(3,2)\n",
    "print(p1.x)\n",
    "print(p1.y)\n",
    "#Criando um círculo\n",
    "c1 = Circulo(p1, 4.5)\n",
    "print(c1.raio)\n",
    "c2 = Circulo(Ponto(0,0), 8.5)\n",
    "print(c2.centro.x)\n"
   ]
  },
  {
   "cell_type": "markdown",
   "metadata": {},
   "source": [
    "## Métodos \n",
    "Os métodos definem o comportamento dos objetos. \n",
    "\n",
    "Para as duas classes acima, poderíamos definir alguns métodos:\n",
    " * Para o ponto, calcular a distância com relação a outro ponto. \n",
    " * Mover o centro do círculo\n",
    " * Calcular a área do círculo\n",
    " \n",
    "Além disso, seria bom poder \"imprimir\" pontos fácilmente: ```print(p1)```. Para isso, definiremos o método ```___str__``` que transforma um objeto em uma string.  "
   ]
  },
  {
   "cell_type": "code",
   "execution_count": null,
   "metadata": {},
   "outputs": [],
   "source": [
    "#Implementando alguns métodos\n",
    "import math\n",
    "\n",
    "class Ponto:\n",
    "    '''Representação de uma coordenada no plano cartesiano'''\n",
    "    \n",
    "    def __init__(self, x, y):\n",
    "        '''Inicialização das coordenadas x e y'''\n",
    "        self.x = x\n",
    "        self.y = y\n",
    "        \n",
    "    def distancia(self, outro):\n",
    "        '''Calcula a distância euclidiana entre self e outro'''\n",
    "        return math.sqrt((self.x - outro.x) ** 2 + (self.y - outro.y) ** 2)\n",
    "\n",
    "    # Nosso primeiro dunder (double-underscore) -- métodos \"mágicos\" em Python\n",
    "    def __str__(self):\n",
    "        '''Retorna uma representação em formato string de um Ponto'''\n",
    "        return f'({self.x},{self.y})'\n",
    "        \n",
    "\n",
    "class Circulo:\n",
    "    '''Representação de um círculo'''\n",
    "    \n",
    "    def __init__(self, centro, raio):\n",
    "        '''Centro (x,y) e raio do círculo'''\n",
    "        self.centro = centro\n",
    "        self.raio = raio\n",
    "    \n",
    "    def moverCentro(self, novoX, novoY):\n",
    "        '''Mover o centro do círculo'''\n",
    "        self.centro = Ponto(novoX, novoY)\n",
    "        \n",
    "    def area(self):\n",
    "        '''Calcular a área do círculo'''\n",
    "        return math.pi * ( self.raio ** 2)\n",
    "    \n",
    "    def __str__(self):\n",
    "        '''Representação do círculo como uma string'''\n",
    "        return f'Centro: {self.centro}. Raio: {self.raio}' \n",
    "    "
   ]
  },
  {
   "cell_type": "markdown",
   "metadata": {},
   "source": [
    "Agora podemos criar pontos e círculos e utilizar os seus métodos:"
   ]
  },
  {
   "cell_type": "code",
   "execution_count": null,
   "metadata": {},
   "outputs": [],
   "source": [
    "c1 = Circulo(Ponto(0,0), 5)\n",
    "c2 = Circulo(Ponto(3,4), 10)\n",
    "print(c1) #Conversão automática para str\n",
    "print(c2.__str__())\n",
    "\n",
    "#Utilizar o método distancia\n",
    "print(c1.centro.distancia(c2.centro))\n",
    "\n",
    "c1.moverCentro(4,10)\n",
    "print(c1)\n",
    "\n",
    "s = str(c1) # Chama a __str__ \n",
    "print(s) \n",
    "print(c1.__str__()) # Alternativa (quase nunca utilizada)\n",
    "\n",
    "#Sempre devemos documentar!\n",
    "help(c1)\n",
    "\n"
   ]
  },
  {
   "cell_type": "markdown",
   "metadata": {},
   "source": [
    "## O parâmetro ```self```\n",
    "\n",
    "Note que todos os métodos da classe (incluindo ```__init__```) devem declarar, como primeiro parâmetro, a referência ao próprio objeto (```self```). Por tanto, quando executamos ```C.area()``` realmente estamos chamando a função/método ```area``` da classe ```Circulo```com parâmetro ```C```:"
   ]
  },
  {
   "cell_type": "code",
   "execution_count": null,
   "metadata": {},
   "outputs": [],
   "source": [
    "C = Circulo(Ponto(0,0), 1)\n",
    "print(C.area()) # Forma comum de chamar um método da classe\n",
    "print(Circulo.area(C)) #Forma alternativa (quase nunca utilizada)\n"
   ]
  },
  {
   "cell_type": "markdown",
   "metadata": {},
   "source": [
    "## Função Main\n",
    "Em Python, não é necessário definir a função ```main``` (ver exemplos acima). Porém, poderíamos escrever essa função como a seguir:\n"
   ]
  },
  {
   "cell_type": "code",
   "execution_count": null,
   "metadata": {},
   "outputs": [],
   "source": [
    "def main():\n",
    "    '''Função principal'''\n",
    "    C = Circulo(Ponto(3,2),10)\n",
    "    print(C.area())\n",
    "\n",
    "# executar a função principal\n",
    "if __name__ == \"__main__\":\n",
    "    main()"
   ]
  },
  {
   "cell_type": "markdown",
   "metadata": {},
   "source": [
    "O significado de ```__name__ == \"__main__\"``` vai ficar claro na aula de Módulos. \n",
    "Por enquanto, podemos dizer que o ```if``` está verificando que nosso programa está rodando no escopo principal (```__main___```) e não como um Módulo. Por enquanto, podemos ignorar esse ```if``` e o resultado é o mesmo:"
   ]
  },
  {
   "cell_type": "code",
   "execution_count": null,
   "metadata": {},
   "outputs": [],
   "source": [
    "main() #Chamando a função main"
   ]
  },
  {
   "cell_type": "markdown",
   "metadata": {},
   "source": [
    "## Exercício 1: Números complexos\n",
    "\n",
    "Neste exercício você aprenderá 2 coisas adicionais:\n",
    " - Como definir o operador ```+``` em Python\n",
    " - Como comparar 2 objetos"
   ]
  },
  {
   "cell_type": "markdown",
   "metadata": {},
   "source": [
    "Implemente a classe Complexo para representar um número complexo. Sua classe deve oferecer os seguintes métodos:\n",
    " * ```modulo```: que retorna o módulo do número complexo.\n",
    " * ```reset```: atribui 0.0 à parte real e à parte imaginaria. \n",
    " * ```incrementar```: incrementa em 1 a parte real do número complexo. \n",
    " * ```conjugado```: retorna o conjugado do número complexo (se ```Z= a+bi``` então ```conj(Z) = a - bi```). \n",
    " * ```__str__```: para converter o número complexo em uma string\n",
    " * ```soma```: dado um complexo C, retorna o número complexo C + self\n",
    "\n",
    "Escreva um bloco main para testar. \n",
    "\n",
    "---\n",
    "\n",
    "### Método ```__add__``` e o operador ```+```\n",
    "Adicione o seguinte método na sua classe:\n",
    "\n",
    "```\n",
    "def __add__(self, outro):\n",
    "    '''Implementa o operador +'''\n",
    "    return self.soma(outro)\n",
    "```\n",
    "\n",
    "e teste o código a seguir: \n",
    "\n",
    "```\n",
    "c1 = Complexo(3,2)\n",
    "c2 = Complexo(1,2)\n",
    "print (c1 + c2)\n",
    "\n",
    "```\n",
    "\n",
    "### Comparando objetos\n",
    "O que imprime o código a seguir? \n",
    "\n",
    "```\n",
    "c1 = Complexo(3,2)\n",
    "c2 = Complexo(3,2)\n",
    "c1 == c2\n",
    "```\n",
    "\n",
    "Adicione o seguinte método na sua classe e teste de novo:\n",
    "\n",
    "```\n",
    "def __eq__(self, outro):\n",
    "    '''Retorna verdadeiro se os dois números são iguais (parte real e parte imaginária)'''\n",
    "    if type(outro)== Complexo:\n",
    "        return self.real == outro.real and self.img == outro.img\n",
    "    else:\n",
    "        return False\n",
    "```\n"
   ]
  },
  {
   "cell_type": "markdown",
   "metadata": {},
   "source": [
    "---"
   ]
  },
  {
   "cell_type": "markdown",
   "metadata": {},
   "source": [
    "## Exercício 2: Pessoas\n",
    "Neste exercício você aprenderá alguns operações básicas utilizando a biblioteca ```datetime``` de Python\n",
    "\n",
    "Defina a classe Pessoa com os seguintes atributos:\n",
    " * nome\n",
    " * cpf\n",
    " * data de nascimento \n",
    "\n",
    "Adicione os seguintes métodos à classe:\n",
    " * idade: que retorna a idade da pessoa\n",
    " * ```__str__```\n",
    " * aniv_mes: dado um inteiro ```1 <= n <= 12```, determina se o aniversário da pessoa cai no mês ```n```. \n",
    " * maisnovo: Dada outra pessoa P, retorna verdadeiro se P  é mais novo que o objeto que chamou o método.\n",
    " * se_apresentar: retorna a string \"Ola, meu nome é XXXXX e tenho XX anos de idade\"\n",
    " * cumprimentar: recebe como parâmetro outra pessoa e retorna a string \"Ola XXX, meu nome é YYYY\"\n",
    "\n",
    " Segue um exemplo simples das bibliotecas de Python para manipular datas\n",
    " "
   ]
  },
  {
   "cell_type": "code",
   "execution_count": null,
   "metadata": {},
   "outputs": [],
   "source": [
    "from datetime import date, timedelta\n",
    "hoje = date.today()\n",
    "print(hoje)\n",
    "data = date(2005, 2,20)\n",
    "print(data)\n",
    "#type(hoje - data) --> datetime.timedelta\n",
    "diff = hoje - data\n",
    "print(diff)\n",
    "#Comparar datas\n",
    "print(hoje > data)\n",
    "\n",
    "#Classes mais especializadas para calcular diferenças de datas\n",
    "from dateutil.relativedelta import relativedelta\n",
    "idade = relativedelta(hoje, data)\n",
    "print(idade.years)"
   ]
  }
 ],
 "metadata": {
  "kernelspec": {
   "display_name": "Python 3",
   "language": "python",
   "name": "python3"
  },
  "language_info": {
   "codemirror_mode": {
    "name": "ipython",
    "version": 3
   },
   "file_extension": ".py",
   "mimetype": "text/x-python",
   "name": "python",
   "nbconvert_exporter": "python",
   "pygments_lexer": "ipython3",
   "version": "3.8.5"
  }
 },
 "nbformat": 4,
 "nbformat_minor": 4
}
