{
 "cells": [
  {
   "cell_type": "markdown",
   "metadata": {},
   "source": [
    "# Padrão de projeto MVC\n",
    "\n",
    "O conteúdo deste notebook provem principalmente de:\n",
    " - https://pt.wikipedia.org/wiki/MVC\n",
    " - https://realpython.com/the-model-view-controller-mvc-paradigm-summarized-with-legos/\n",
    " - https://www.giacomodebidda.com/mvc-pattern-in-python-introduction-and-basicmodel/\n",
    "\n",
    "\n",
    "Um padrão de projeto (*design pattern*) é uma solução geral para um problema que ocorre com frequência. \n",
    "\n",
    "\n",
    "O modelo MVC (**Model, View, Controller**) separa partes distintas do projeto reduzindo suas dependências ao máximo: o front-end responsável pela interação com o usuário e o back-end responsável pelos dados e a lógica do sistema. \n",
    "\n",
    "\n",
    "As três camadas do modelo são:\n",
    " - **Model** (Lógica da aplicação): Consiste nos dados da aplicação, regras de negócios, lógica e funções. Permite que os dados sejam  acessados, coletados e armazenados. Este componente **modela o problema que está se tentando resolver**. \n",
    " - **View** (Apresentação): Saída e representação de dados, por exemplo, uma GUI (Interface gráfica de usuário), página web, impressão na tela, gráfico de barras, etc. Um modelo pode ter várias visões. \n",
    " - **Controller** (Controlador): mediação da entrada, convertendo-a em comandos para o modelo ou visão. Neste componente são manipulados os dados que o usuário insere e atualiza o Modelo segundo a solicitação do usuário. \n",
    "\n",
    "Vantagens:\n",
    " - Vários views para o mesmo modelo\n",
    " - Facilita o reuso do código\n",
    " - Partes da aplicação podem ser alteradas sem a necessidade de alterar outras.\n",
    " - Baixo **acoplamento** (acomplamento é o grau em que uma classe conhece a outra). As interface entre as classes está melhor definida. \n",
    " - Alta **coesão** (ou seja, as classes têm propósitos bem definidos). \n",
    "\n",
    "\n",
    "## Exemplo\n",
    "\n",
    "Considere o exemplo no arquivo pessoa.zip \n",
    "\n",
    " - pessoa.py: Classe Pessoa (Modelo). \n",
    " - pessoaCtr.py: Classe PessoaCtr ( Controlador)\n",
    " - pessoaView.py: Classe PessoaView (View)\n",
    "\n",
    "Algumas observações importantes:\n",
    " - A classe do modelo define os atributos a serem armazenados e mantem um \"banco de dados\" das pessoas (neste exemplo simples, o banco de dados é um dicionário)\n",
    " - O modelo oferece métodos para manipular os objetos (Pessoas)\n",
    " - A classe *View* deve lidar com a visualização dos dados e as respostas do sistema (por exemplo, listar as pessoas, mensagens de erro, etc). \n",
    " - Note que a classe View não acessa direitamente o banco de dados\n",
    " - A classe do Controlador lida com as ações do usuário. Note que essa classe utiliza a classe do Modelo para recuperar os dados e utiliza a classe View para visualizar as informações. \n",
    "\n",
    "\n",
    "> What you need to ask yourself to define if your app is MVC is the following:\n",
    "\n",
    ">  - If I change something in the view do I break anything in the model?\n",
    ">  - If I change something in the model do I break anything in the view?\n",
    ">  - Is the controller communicating everything in both view and model so that they don't have to communicate with each other?\n",
    "\n",
    "> If nothing breaks and the controller does all of the communication then yes, your application is MVC.\n",
    "> https://stackoverflow.com/questions/38042632/mvc-the-simplest-example\n",
    "\n",
    "No nosso exemplo:\n",
    " - Podemos mudar qualquer uma das classes e o sistema continua funcionando. Por exemplo, podemos trocar o modelo (adicionando uma conexão a um banco de dados) e as outras duas classes continuam funcionando. Podemos trocar o View por uma interface gráfica (o página HTML) e as outras duas continuam funcionando. \n",
    " - A classe View não precisa saber como foi implementado o modelo (só precisa saber os atributos/properties dessa classe)\n",
    " - A classe do Modelo não precisa saber como os objetos vão ser visualizados. "
   ]
  },
  {
   "cell_type": "markdown",
   "metadata": {},
   "source": [
    "## Exercício\n",
    "\n",
    "1. O sistema anterior imprime as pessoas assim:\n",
    "```\n",
    "Pessoa(('cpf1', 'nome1', 'email1'))\n",
    "```\n",
    "\n",
    "Se queremos imprimir no formato:\n",
    "```\n",
    "CPF: xxx  Nome: xxxxx  Email: xxxx\n",
    "```\n",
    "\n",
    "o que deve ser modificado? \n",
    "\n",
    "2. Implemente o jogo da velha utilizando o padrão MVC. "
   ]
  },
  {
   "cell_type": "code",
   "execution_count": null,
   "metadata": {},
   "outputs": [],
   "source": []
  }
 ],
 "metadata": {
  "kernelspec": {
   "display_name": "Python 3",
   "language": "python",
   "name": "python3"
  },
  "language_info": {
   "codemirror_mode": {
    "name": "ipython",
    "version": 3
   },
   "file_extension": ".py",
   "mimetype": "text/x-python",
   "name": "python",
   "nbconvert_exporter": "python",
   "pygments_lexer": "ipython3",
   "version": "3.8.6"
  }
 },
 "nbformat": 4,
 "nbformat_minor": 2
}
